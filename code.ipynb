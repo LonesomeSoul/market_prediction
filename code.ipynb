{
 "cells": [
  {
   "cell_type": "code",
   "execution_count": 1,
   "metadata": {},
   "outputs": [],
   "source": [
    "import string \n",
    "import math\n",
    "import numpy as np \n",
    "import pandas as pd \n",
    "pd.set_option('display.max_columns', 100) \n",
    "pd.set_option('display.max_rows', 10) \n",
    "pd.set_option('display.width', 1000) \n",
    "from itertools import cycle "
   ]
  },
  {
   "cell_type": "code",
   "execution_count": 2,
   "metadata": {},
   "outputs": [],
   "source": [
    "from sklearn.linear_model import LogisticRegression\n",
    "from sklearn.svm import SVC, LinearSVC\n",
    "from sklearn.ensemble import RandomForestRegressor\n",
    "from sklearn.neighbors import KNeighborsClassifier\n",
    "from sklearn.naive_bayes import GaussianNB\n",
    "from sklearn.linear_model import Perceptron\n",
    "from sklearn.linear_model import SGDClassifier\n",
    "from sklearn.tree import DecisionTreeClassifier\n",
    "import sklearn\n",
    "import datetime\n",
    "####\n",
    "# scikit-learn version is 0.24.1.\n",
    "# pandas version is 1.2.3.\n",
    "# numpy version is 1.20.1."
   ]
  },
  {
   "cell_type": "code",
   "execution_count": 3,
   "metadata": {},
   "outputs": [],
   "source": [
    "df=pd.read_csv(r'D:\\учеба\\Kaggle\\Биржа\\US1.AAPL_200501_210901.csv' ,sep=',')"
   ]
  },
  {
   "cell_type": "code",
   "execution_count": 4,
   "metadata": {},
   "outputs": [
    {
     "data": {
      "text/html": [
       "<div>\n",
       "<style scoped>\n",
       "    .dataframe tbody tr th:only-of-type {\n",
       "        vertical-align: middle;\n",
       "    }\n",
       "\n",
       "    .dataframe tbody tr th {\n",
       "        vertical-align: top;\n",
       "    }\n",
       "\n",
       "    .dataframe thead th {\n",
       "        text-align: right;\n",
       "    }\n",
       "</style>\n",
       "<table border=\"1\" class=\"dataframe\">\n",
       "  <thead>\n",
       "    <tr style=\"text-align: right;\">\n",
       "      <th></th>\n",
       "      <th>&lt;TICKER&gt;</th>\n",
       "      <th>&lt;PER&gt;</th>\n",
       "      <th>&lt;DATE&gt;</th>\n",
       "      <th>&lt;TIME&gt;</th>\n",
       "      <th>&lt;OPEN&gt;</th>\n",
       "      <th>&lt;HIGH&gt;</th>\n",
       "      <th>&lt;LOW&gt;</th>\n",
       "      <th>&lt;CLOSE&gt;</th>\n",
       "      <th>&lt;VOL&gt;</th>\n",
       "      <th>delta1</th>\n",
       "      <th>delta2</th>\n",
       "    </tr>\n",
       "  </thead>\n",
       "  <tbody>\n",
       "    <tr>\n",
       "      <th>0</th>\n",
       "      <td>US1.AAPL</td>\n",
       "      <td>1</td>\n",
       "      <td>01/05/20</td>\n",
       "      <td>16:31</td>\n",
       "      <td>286.220</td>\n",
       "      <td>289.310</td>\n",
       "      <td>285.850</td>\n",
       "      <td>289.29</td>\n",
       "      <td>64648</td>\n",
       "      <td>0.00</td>\n",
       "      <td>0.00</td>\n",
       "    </tr>\n",
       "    <tr>\n",
       "      <th>1</th>\n",
       "      <td>US1.AAPL</td>\n",
       "      <td>1</td>\n",
       "      <td>01/05/20</td>\n",
       "      <td>16:32</td>\n",
       "      <td>289.250</td>\n",
       "      <td>289.350</td>\n",
       "      <td>288.470</td>\n",
       "      <td>289.04</td>\n",
       "      <td>33806</td>\n",
       "      <td>-0.25</td>\n",
       "      <td>0.00</td>\n",
       "    </tr>\n",
       "    <tr>\n",
       "      <th>2</th>\n",
       "      <td>US1.AAPL</td>\n",
       "      <td>1</td>\n",
       "      <td>01/05/20</td>\n",
       "      <td>16:33</td>\n",
       "      <td>289.160</td>\n",
       "      <td>289.720</td>\n",
       "      <td>288.340</td>\n",
       "      <td>288.56</td>\n",
       "      <td>33746</td>\n",
       "      <td>-0.48</td>\n",
       "      <td>-0.73</td>\n",
       "    </tr>\n",
       "    <tr>\n",
       "      <th>3</th>\n",
       "      <td>US1.AAPL</td>\n",
       "      <td>1</td>\n",
       "      <td>01/05/20</td>\n",
       "      <td>16:34</td>\n",
       "      <td>288.300</td>\n",
       "      <td>289.380</td>\n",
       "      <td>288.300</td>\n",
       "      <td>289.16</td>\n",
       "      <td>22446</td>\n",
       "      <td>0.60</td>\n",
       "      <td>0.12</td>\n",
       "    </tr>\n",
       "    <tr>\n",
       "      <th>4</th>\n",
       "      <td>US1.AAPL</td>\n",
       "      <td>1</td>\n",
       "      <td>01/05/20</td>\n",
       "      <td>16:35</td>\n",
       "      <td>289.170</td>\n",
       "      <td>290.440</td>\n",
       "      <td>288.960</td>\n",
       "      <td>290.44</td>\n",
       "      <td>26771</td>\n",
       "      <td>1.28</td>\n",
       "      <td>1.88</td>\n",
       "    </tr>\n",
       "    <tr>\n",
       "      <th>...</th>\n",
       "      <td>...</td>\n",
       "      <td>...</td>\n",
       "      <td>...</td>\n",
       "      <td>...</td>\n",
       "      <td>...</td>\n",
       "      <td>...</td>\n",
       "      <td>...</td>\n",
       "      <td>...</td>\n",
       "      <td>...</td>\n",
       "      <td>...</td>\n",
       "      <td>...</td>\n",
       "    </tr>\n",
       "    <tr>\n",
       "      <th>131467</th>\n",
       "      <td>US1.AAPL</td>\n",
       "      <td>1</td>\n",
       "      <td>01/09/21</td>\n",
       "      <td>22:56</td>\n",
       "      <td>152.430</td>\n",
       "      <td>152.455</td>\n",
       "      <td>152.390</td>\n",
       "      <td>152.44</td>\n",
       "      <td>48179</td>\n",
       "      <td>0.02</td>\n",
       "      <td>-0.01</td>\n",
       "    </tr>\n",
       "    <tr>\n",
       "      <th>131468</th>\n",
       "      <td>US1.AAPL</td>\n",
       "      <td>1</td>\n",
       "      <td>01/09/21</td>\n",
       "      <td>22:57</td>\n",
       "      <td>152.445</td>\n",
       "      <td>152.470</td>\n",
       "      <td>152.420</td>\n",
       "      <td>152.44</td>\n",
       "      <td>30555</td>\n",
       "      <td>0.00</td>\n",
       "      <td>0.02</td>\n",
       "    </tr>\n",
       "    <tr>\n",
       "      <th>131469</th>\n",
       "      <td>US1.AAPL</td>\n",
       "      <td>1</td>\n",
       "      <td>01/09/21</td>\n",
       "      <td>22:58</td>\n",
       "      <td>152.445</td>\n",
       "      <td>152.470</td>\n",
       "      <td>152.410</td>\n",
       "      <td>152.45</td>\n",
       "      <td>29922</td>\n",
       "      <td>0.01</td>\n",
       "      <td>0.01</td>\n",
       "    </tr>\n",
       "    <tr>\n",
       "      <th>131470</th>\n",
       "      <td>US1.AAPL</td>\n",
       "      <td>1</td>\n",
       "      <td>01/09/21</td>\n",
       "      <td>22:59</td>\n",
       "      <td>152.460</td>\n",
       "      <td>152.495</td>\n",
       "      <td>152.440</td>\n",
       "      <td>152.49</td>\n",
       "      <td>43008</td>\n",
       "      <td>0.04</td>\n",
       "      <td>0.05</td>\n",
       "    </tr>\n",
       "    <tr>\n",
       "      <th>131471</th>\n",
       "      <td>US1.AAPL</td>\n",
       "      <td>1</td>\n",
       "      <td>01/09/21</td>\n",
       "      <td>23:00</td>\n",
       "      <td>152.490</td>\n",
       "      <td>152.540</td>\n",
       "      <td>152.465</td>\n",
       "      <td>152.54</td>\n",
       "      <td>69771</td>\n",
       "      <td>0.05</td>\n",
       "      <td>0.09</td>\n",
       "    </tr>\n",
       "  </tbody>\n",
       "</table>\n",
       "<p>131472 rows × 11 columns</p>\n",
       "</div>"
      ],
      "text/plain": [
       "        <TICKER>  <PER>    <DATE> <TIME>   <OPEN>   <HIGH>    <LOW>  <CLOSE>  <VOL>  delta1  delta2\n",
       "0       US1.AAPL      1  01/05/20  16:31  286.220  289.310  285.850   289.29  64648    0.00    0.00\n",
       "1       US1.AAPL      1  01/05/20  16:32  289.250  289.350  288.470   289.04  33806   -0.25    0.00\n",
       "2       US1.AAPL      1  01/05/20  16:33  289.160  289.720  288.340   288.56  33746   -0.48   -0.73\n",
       "3       US1.AAPL      1  01/05/20  16:34  288.300  289.380  288.300   289.16  22446    0.60    0.12\n",
       "4       US1.AAPL      1  01/05/20  16:35  289.170  290.440  288.960   290.44  26771    1.28    1.88\n",
       "...          ...    ...       ...    ...      ...      ...      ...      ...    ...     ...     ...\n",
       "131467  US1.AAPL      1  01/09/21  22:56  152.430  152.455  152.390   152.44  48179    0.02   -0.01\n",
       "131468  US1.AAPL      1  01/09/21  22:57  152.445  152.470  152.420   152.44  30555    0.00    0.02\n",
       "131469  US1.AAPL      1  01/09/21  22:58  152.445  152.470  152.410   152.45  29922    0.01    0.01\n",
       "131470  US1.AAPL      1  01/09/21  22:59  152.460  152.495  152.440   152.49  43008    0.04    0.05\n",
       "131471  US1.AAPL      1  01/09/21  23:00  152.490  152.540  152.465   152.54  69771    0.05    0.09\n",
       "\n",
       "[131472 rows x 11 columns]"
      ]
     },
     "execution_count": 4,
     "metadata": {},
     "output_type": "execute_result"
    }
   ],
   "source": [
    "#фичи delta1 - разница <CLOSE> с предыдущим временным промежутком,\n",
    "# delta2 - с точкой двумя промежутками раньше\n",
    "delta1=[0 for i in range(0,df[\"<TICKER>\"].size)]\n",
    "delta2=[0 for i in range(0,df[\"<TICKER>\"].size)]\n",
    "i=1\n",
    "while (i<df[\"<TICKER>\"].size):\n",
    "    delta1[i]=df[\"<CLOSE>\"][i]-df[\"<CLOSE>\"][i-1]\n",
    "    i+=1\n",
    "df['delta1']=delta1\n",
    "delta1=[0 for i in range(0,df[\"<TICKER>\"].size)]\n",
    "\n",
    "i=2\n",
    "while (i<df[\"<TICKER>\"].size):\n",
    "    delta2[i]=df[\"<CLOSE>\"][i]-df[\"<CLOSE>\"][i-2]\n",
    "    i+=1\n",
    "df['delta2']=delta2\n",
    "df"
   ]
  },
  {
   "cell_type": "code",
   "execution_count": 5,
   "metadata": {},
   "outputs": [
    {
     "name": "stderr",
     "output_type": "stream",
     "text": [
      "<ipython-input-5-314177c4a164>:6: SettingWithCopyWarning: \n",
      "A value is trying to be set on a copy of a slice from a DataFrame\n",
      "\n",
      "See the caveats in the documentation: https://pandas.pydata.org/pandas-docs/stable/user_guide/indexing.html#returning-a-view-versus-a-copy\n",
      "  df[\"<DATE>\"][i]=df[\"<DATE>\"][i][0:6]+\"20\"+df[\"<DATE>\"][i][6:8]\n"
     ]
    }
   ],
   "source": [
    "#добавляю фичу \"день недели\" + форматирую дату с дд\\мм\\гг на дд\\мм\\гггг\n",
    "day=[0 for i in range(0,df[\"<TICKER>\"].size)]\n",
    "from datetime import datetime, date, time\n",
    "i=0\n",
    "while (i<df[\"<TICKER>\"].size):\n",
    "    df[\"<DATE>\"][i]=df[\"<DATE>\"][i][0:6]+\"20\"+df[\"<DATE>\"][i][6:8]\n",
    "    day[i]=datetime.weekday(datetime.strptime(df[\"<DATE>\"][i]+\" \"+df[\"<TIME>\"][i], \n",
    "                             \"%d/%m/%Y %H:%M\"))\n",
    "    i+=1\n",
    "df['day']=day"
   ]
  },
  {
   "cell_type": "code",
   "execution_count": 6,
   "metadata": {},
   "outputs": [],
   "source": [
    "#добавляю фичу \"время\" - в секундах с начала торгов (16:30)\n",
    "size=len(df[\"<TICKER>\"])\n",
    "hours=[0 for i in range(size)]\n",
    "mins=[0 for i in range(size)]\n",
    "secs=[0 for i in range(size)]\n",
    "for i in range(size):\n",
    "    hours[i]=int(df[\"<TIME>\"][i][0:2])\n",
    "    mins[i]=int(df[\"<TIME>\"][i][3:5])\n",
    "TIME=[0 for i in range(0,df[\"<TICKER>\"].size)]\n",
    "for i in range(size):\n",
    "    TIME[i]=(hours[i]-16)*3600+mins[i]*60-1860\n",
    "    \n",
    "df['time']=TIME"
   ]
  },
  {
   "cell_type": "code",
   "execution_count": 7,
   "metadata": {},
   "outputs": [
    {
     "name": "stderr",
     "output_type": "stream",
     "text": [
      "<ipython-input-7-99c929464daa>:6: SettingWithCopyWarning: \n",
      "A value is trying to be set on a copy of a slice from a DataFrame\n",
      "\n",
      "See the caveats in the documentation: https://pandas.pydata.org/pandas-docs/stable/user_guide/indexing.html#returning-a-view-versus-a-copy\n",
      "  df['label'][i]=(df['<CLOSE>'][i+1])\n"
     ]
    }
   ],
   "source": [
    "#метки для обучения (значения <CLOSE> на следующем временном промежутке)\n",
    "labels=[float(0.0) for i in range(0,df[\"<TICKER>\"].size)]\n",
    "labels=np.float32(labels)\n",
    "df['label']=labels\n",
    "for i in range(size-1):\n",
    "    df['label'][i]=(df['<CLOSE>'][i+1])"
   ]
  },
  {
   "cell_type": "code",
   "execution_count": null,
   "metadata": {},
   "outputs": [],
   "source": []
  },
  {
   "cell_type": "code",
   "execution_count": null,
   "metadata": {},
   "outputs": [],
   "source": []
  },
  {
   "cell_type": "code",
   "execution_count": 8,
   "metadata": {
    "scrolled": true
   },
   "outputs": [],
   "source": [
    "#формирование обучающей, тестовой выборок\n",
    "train={\n",
    "    'time':df['time'][0:size-1],\n",
    "    '<CLOSE>':df['<CLOSE>'][0:size-1],\n",
    "      'delta1':df['delta1'][0:size-1],\n",
    "    'delta2':df['delta2'][0:size-1],\n",
    "'day':df['day'][0:size-5]}\n",
    "df_train=pd.DataFrame(data=train)\n",
    "X = df_train\n",
    "\n",
    "y=df['label'][0:size-1]\n",
    "\n",
    "from sklearn.model_selection import train_test_split"
   ]
  },
  {
   "cell_type": "code",
   "execution_count": 9,
   "metadata": {},
   "outputs": [
    {
     "data": {
      "text/plain": [
       "array([[ 0.0000e+00,  2.8929e+02,  0.0000e+00,  0.0000e+00,  4.0000e+00],\n",
       "       [ 6.0000e+01,  2.8904e+02, -2.5000e-01,  0.0000e+00,  4.0000e+00],\n",
       "       [ 1.2000e+02,  2.8856e+02, -4.8000e-01, -7.3000e-01,  4.0000e+00],\n",
       "       ...,\n",
       "       [ 2.3160e+04,  1.5244e+02,  0.0000e+00,  2.0000e-02,         nan],\n",
       "       [ 2.3220e+04,  1.5245e+02,  1.0000e-02,  1.0000e-02,         nan],\n",
       "       [ 2.3280e+04,  1.5249e+02,  4.0000e-02,  5.0000e-02,         nan]])"
      ]
     },
     "execution_count": 9,
     "metadata": {},
     "output_type": "execute_result"
    }
   ],
   "source": [
    "df_train.values"
   ]
  },
  {
   "cell_type": "code",
   "execution_count": 10,
   "metadata": {},
   "outputs": [],
   "source": [
    "y=df['label'][0:size-1]"
   ]
  },
  {
   "cell_type": "code",
   "execution_count": 11,
   "metadata": {},
   "outputs": [],
   "source": [
    "X_train, X_test, y_train, y_test = train_test_split(X, y, test_size = 0.20, random_state =0)\n"
   ]
  },
  {
   "cell_type": "code",
   "execution_count": 12,
   "metadata": {},
   "outputs": [],
   "source": [
    "X_train = X_train.fillna(X_train.mean())\n",
    "X_test = X_test.fillna(X_test.mean())"
   ]
  },
  {
   "cell_type": "code",
   "execution_count": 13,
   "metadata": {},
   "outputs": [
    {
     "data": {
      "text/html": [
       "<div>\n",
       "<style scoped>\n",
       "    .dataframe tbody tr th:only-of-type {\n",
       "        vertical-align: middle;\n",
       "    }\n",
       "\n",
       "    .dataframe tbody tr th {\n",
       "        vertical-align: top;\n",
       "    }\n",
       "\n",
       "    .dataframe thead th {\n",
       "        text-align: right;\n",
       "    }\n",
       "</style>\n",
       "<table border=\"1\" class=\"dataframe\">\n",
       "  <thead>\n",
       "    <tr style=\"text-align: right;\">\n",
       "      <th></th>\n",
       "      <th>time</th>\n",
       "      <th>&lt;CLOSE&gt;</th>\n",
       "      <th>delta1</th>\n",
       "      <th>delta2</th>\n",
       "      <th>day</th>\n",
       "    </tr>\n",
       "  </thead>\n",
       "  <tbody>\n",
       "    <tr>\n",
       "      <th>87224</th>\n",
       "      <td>12840</td>\n",
       "      <td>123.18</td>\n",
       "      <td>-0.02</td>\n",
       "      <td>-0.05</td>\n",
       "      <td>1.0</td>\n",
       "    </tr>\n",
       "    <tr>\n",
       "      <th>71422</th>\n",
       "      <td>4440</td>\n",
       "      <td>144.46</td>\n",
       "      <td>0.32</td>\n",
       "      <td>0.20</td>\n",
       "      <td>0.0</td>\n",
       "    </tr>\n",
       "    <tr>\n",
       "      <th>108857</th>\n",
       "      <td>120</td>\n",
       "      <td>126.21</td>\n",
       "      <td>0.04</td>\n",
       "      <td>-0.06</td>\n",
       "      <td>4.0</td>\n",
       "    </tr>\n",
       "    <tr>\n",
       "      <th>75866</th>\n",
       "      <td>13680</td>\n",
       "      <td>136.69</td>\n",
       "      <td>0.04</td>\n",
       "      <td>0.04</td>\n",
       "      <td>1.0</td>\n",
       "    </tr>\n",
       "    <tr>\n",
       "      <th>88232</th>\n",
       "      <td>3060</td>\n",
       "      <td>119.97</td>\n",
       "      <td>0.00</td>\n",
       "      <td>0.11</td>\n",
       "      <td>4.0</td>\n",
       "    </tr>\n",
       "    <tr>\n",
       "      <th>...</th>\n",
       "      <td>...</td>\n",
       "      <td>...</td>\n",
       "      <td>...</td>\n",
       "      <td>...</td>\n",
       "      <td>...</td>\n",
       "    </tr>\n",
       "    <tr>\n",
       "      <th>41993</th>\n",
       "      <td>15660</td>\n",
       "      <td>113.35</td>\n",
       "      <td>-0.02</td>\n",
       "      <td>-0.09</td>\n",
       "      <td>4.0</td>\n",
       "    </tr>\n",
       "    <tr>\n",
       "      <th>97639</th>\n",
       "      <td>5700</td>\n",
       "      <td>133.27</td>\n",
       "      <td>-0.02</td>\n",
       "      <td>-0.07</td>\n",
       "      <td>4.0</td>\n",
       "    </tr>\n",
       "    <tr>\n",
       "      <th>95939</th>\n",
       "      <td>20760</td>\n",
       "      <td>134.82</td>\n",
       "      <td>0.09</td>\n",
       "      <td>0.06</td>\n",
       "      <td>4.0</td>\n",
       "    </tr>\n",
       "    <tr>\n",
       "      <th>117952</th>\n",
       "      <td>7800</td>\n",
       "      <td>148.75</td>\n",
       "      <td>-0.03</td>\n",
       "      <td>-0.09</td>\n",
       "      <td>3.0</td>\n",
       "    </tr>\n",
       "    <tr>\n",
       "      <th>43567</th>\n",
       "      <td>16440</td>\n",
       "      <td>114.67</td>\n",
       "      <td>0.00</td>\n",
       "      <td>0.02</td>\n",
       "      <td>3.0</td>\n",
       "    </tr>\n",
       "  </tbody>\n",
       "</table>\n",
       "<p>105176 rows × 5 columns</p>\n",
       "</div>"
      ],
      "text/plain": [
       "         time  <CLOSE>  delta1  delta2  day\n",
       "87224   12840   123.18   -0.02   -0.05  1.0\n",
       "71422    4440   144.46    0.32    0.20  0.0\n",
       "108857    120   126.21    0.04   -0.06  4.0\n",
       "75866   13680   136.69    0.04    0.04  1.0\n",
       "88232    3060   119.97    0.00    0.11  4.0\n",
       "...       ...      ...     ...     ...  ...\n",
       "41993   15660   113.35   -0.02   -0.09  4.0\n",
       "97639    5700   133.27   -0.02   -0.07  4.0\n",
       "95939   20760   134.82    0.09    0.06  4.0\n",
       "117952   7800   148.75   -0.03   -0.09  3.0\n",
       "43567   16440   114.67    0.00    0.02  3.0\n",
       "\n",
       "[105176 rows x 5 columns]"
      ]
     },
     "execution_count": 13,
     "metadata": {},
     "output_type": "execute_result"
    }
   ],
   "source": [
    "X_train"
   ]
  },
  {
   "cell_type": "code",
   "execution_count": null,
   "metadata": {},
   "outputs": [],
   "source": []
  },
  {
   "cell_type": "code",
   "execution_count": 14,
   "metadata": {},
   "outputs": [],
   "source": [
    "y_test=y_test.reset_index(drop=True)"
   ]
  },
  {
   "cell_type": "code",
   "execution_count": null,
   "metadata": {},
   "outputs": [],
   "source": []
  },
  {
   "cell_type": "code",
   "execution_count": 15,
   "metadata": {},
   "outputs": [],
   "source": [
    "# обучение\n",
    "count=5\n",
    "mean_square_err=[0]*count\n",
    "deviation=[0]*count\n",
    "mae=[0]*count\n",
    "for depth in range(count):\n",
    "    regr = RandomForestRegressor(max_depth=5+depth, random_state=0,min_samples_leaf=5,criterion='mse')\n",
    "    regr.fit(X_train,y_train)\n",
    "    y_pred=regr.predict(X_test)\n",
    "    for i in range(y_pred.size):\n",
    "        mean_square_err[depth]+=(y_test[i]-y_pred[i])**2\n",
    "    mean_square_err[depth]/=y_pred.size\n",
    "    mean_square_err[depth]=mean_square_err[depth]**0.5\n",
    "    for i in range(y_pred.size):\n",
    "        deviation[depth]+=abs(y_test[i]-y_pred[i])*100/y_test[i]\n",
    "    deviation[depth]/=y_pred.size\n",
    "    for i in range(y_pred.size):\n",
    "        mae[depth]+=abs(y_test[i]-y_pred[i])\n",
    "    mae[depth]/=y_pred.size"
   ]
  },
  {
   "cell_type": "code",
   "execution_count": 16,
   "metadata": {},
   "outputs": [
    {
     "data": {
      "text/plain": [
       "(         time  <CLOSE>  delta1  delta2  day\n",
       " 101075   1260   124.52    0.07    0.04  3.0\n",
       " 122139   1560   144.91   -0.04   -0.12  4.0\n",
       " 112446   4860   134.15    0.06   -0.01  3.0\n",
       " 52927   19860   119.21    0.02    0.09  2.0\n",
       " 123770   5820   147.69   -0.01   -0.05  3.0\n",
       " ...       ...      ...     ...     ...  ...\n",
       " 54661    6900   119.08    0.10    0.11  2.0\n",
       " 104628   3780   127.00    0.00    0.01  2.0\n",
       " 101126   4320   125.52   -0.04   -0.16  3.0\n",
       " 58728    4320   122.28    0.20    0.05  4.0\n",
       " 3459    20340   304.74   -0.02   -0.08  2.0\n",
       " \n",
       " [26295 rows x 5 columns],\n",
       " array([124.50600418, 144.94489486, 134.14867434, ..., 125.54351921,\n",
       "        122.26760486, 304.6302384 ]))"
      ]
     },
     "execution_count": 16,
     "metadata": {},
     "output_type": "execute_result"
    }
   ],
   "source": [
    "y_pred=regr.predict(X_test)\n",
    "X_test, y_pred"
   ]
  },
  {
   "cell_type": "code",
   "execution_count": 17,
   "metadata": {
    "scrolled": true
   },
   "outputs": [],
   "source": [
    "err=pd.DataFrame(data={'mse':mean_square_err,'mae':mae,'dev':deviation})"
   ]
  },
  {
   "cell_type": "code",
   "execution_count": 18,
   "metadata": {},
   "outputs": [
    {
     "data": {
      "text/html": [
       "<div>\n",
       "<style scoped>\n",
       "    .dataframe tbody tr th:only-of-type {\n",
       "        vertical-align: middle;\n",
       "    }\n",
       "\n",
       "    .dataframe tbody tr th {\n",
       "        vertical-align: top;\n",
       "    }\n",
       "\n",
       "    .dataframe thead th {\n",
       "        text-align: right;\n",
       "    }\n",
       "</style>\n",
       "<table border=\"1\" class=\"dataframe\">\n",
       "  <thead>\n",
       "    <tr style=\"text-align: right;\">\n",
       "      <th></th>\n",
       "      <th>mse</th>\n",
       "      <th>mae</th>\n",
       "      <th>dev</th>\n",
       "    </tr>\n",
       "  </thead>\n",
       "  <tbody>\n",
       "    <tr>\n",
       "      <th>0</th>\n",
       "      <td>1.761382</td>\n",
       "      <td>1.129557</td>\n",
       "      <td>0.543780</td>\n",
       "    </tr>\n",
       "    <tr>\n",
       "      <th>1</th>\n",
       "      <td>0.894492</td>\n",
       "      <td>0.554460</td>\n",
       "      <td>0.265342</td>\n",
       "    </tr>\n",
       "    <tr>\n",
       "      <th>2</th>\n",
       "      <td>0.457351</td>\n",
       "      <td>0.270360</td>\n",
       "      <td>0.128683</td>\n",
       "    </tr>\n",
       "    <tr>\n",
       "      <th>3</th>\n",
       "      <td>0.277351</td>\n",
       "      <td>0.151869</td>\n",
       "      <td>0.074510</td>\n",
       "    </tr>\n",
       "    <tr>\n",
       "      <th>4</th>\n",
       "      <td>0.235301</td>\n",
       "      <td>0.119734</td>\n",
       "      <td>0.061101</td>\n",
       "    </tr>\n",
       "  </tbody>\n",
       "</table>\n",
       "</div>"
      ],
      "text/plain": [
       "        mse       mae       dev\n",
       "0  1.761382  1.129557  0.543780\n",
       "1  0.894492  0.554460  0.265342\n",
       "2  0.457351  0.270360  0.128683\n",
       "3  0.277351  0.151869  0.074510\n",
       "4  0.235301  0.119734  0.061101"
      ]
     },
     "execution_count": 18,
     "metadata": {},
     "output_type": "execute_result"
    }
   ],
   "source": [
    "err"
   ]
  },
  {
   "cell_type": "code",
   "execution_count": 19,
   "metadata": {},
   "outputs": [
    {
     "data": {
      "text/plain": [
       "RandomForestRegressor(max_depth=8, min_samples_leaf=5, random_state=0)"
      ]
     },
     "execution_count": 19,
     "metadata": {},
     "output_type": "execute_result"
    }
   ],
   "source": [
    "# итоговая модель:\n",
    "model = RandomForestRegressor(max_depth=8, random_state=0,min_samples_leaf=5)\n",
    "model.fit(X_train,y_train)"
   ]
  },
  {
   "cell_type": "code",
   "execution_count": 20,
   "metadata": {},
   "outputs": [
    {
     "data": {
      "text/plain": [
       "array([2.03054748e-05, 9.99979679e-01, 6.17605127e-09, 5.29529439e-09,\n",
       "       3.83961057e-09])"
      ]
     },
     "execution_count": 20,
     "metadata": {},
     "output_type": "execute_result"
    }
   ],
   "source": [
    "model.feature_importances_"
   ]
  },
  {
   "cell_type": "code",
   "execution_count": 21,
   "metadata": {},
   "outputs": [],
   "source": [
    "#Модель нейронной сети PyTorch\n",
    "\n",
    "import torch\n",
    "import torch.nn as nn\n",
    "import torch.nn.functional as F\n",
    "import torchvision\n",
    "\n",
    "min_max_scaler = sklearn.preprocessing.MinMaxScaler()\n",
    "\n",
    "train_data=(torch.tensor(min_max_scaler.fit_transform (X_train.values)))\n",
    "train_target=(torch.tensor( (y_train.values)))\n",
    "test_data=(torch.tensor(min_max_scaler.fit_transform (X_test.values)))\n",
    "test_target=(torch.tensor( (y_test.values)))"
   ]
  },
  {
   "cell_type": "code",
   "execution_count": 36,
   "metadata": {},
   "outputs": [],
   "source": [
    "class Net(nn.Module):\n",
    "    def __init__(self,drop):\n",
    "        super(Net, self).__init__()\n",
    "        self.fc1 = nn.Linear(5, 200)\n",
    "        self.fc2 = nn.Linear(200, 200)\n",
    "        self.fc3 = nn.Linear(200, 100)\n",
    "        self.fc4 = nn.Linear(100, 1)\n",
    "        self.dropout = nn.Dropout(drop)\n",
    "    def forward(self, x):\n",
    "        #x = F.logsigmoid(self.fc1(x))\n",
    "        x = F.relu(self.fc1(x))\n",
    "        x = F.relu(self.fc2(x))\n",
    "        x = F.relu(self.fc3(x))\n",
    "        x = self.dropout(x)\n",
    "        x = self.fc4(x)\n",
    "        return x"
   ]
  },
  {
   "cell_type": "code",
   "execution_count": 38,
   "metadata": {},
   "outputs": [],
   "source": [
    "#обучение модели и возврат mae\n",
    "\n",
    "def checkloss(drop=0.1,learning_rate=0.01, batch_size=30):\n",
    "    epochs=10\n",
    "    train_batches=math.ceil(X_train[\"time\"].size/batch_size)-1\n",
    "    net = Net(drop)\n",
    "    optimizer = torch.optim.SGD(net.parameters(), lr=learning_rate, momentum=0.9)\n",
    "    #criterion = nn.MSELoss()\n",
    "    criterion=nn.L1Loss()\n",
    "    for epoch in range(epochs):\n",
    "        for batch in range(train_batches):\n",
    "            optimizer.zero_grad()\n",
    "            net_out=net(train_data[batch*batch_size:(batch_size*(batch+1))].float())\n",
    "            loss = criterion(net_out, train_target[batch*batch_size:(batch_size*(batch+1))].float())\n",
    "            loss.backward()\n",
    "            optimizer.step()\n",
    "    mae=0\n",
    "    net_out=net(test_data.float())\n",
    "    for i in range(test_data.shape[0]):\n",
    "        mae+=abs(net_out[i]-test_target[i])\n",
    "    mae/=test_data.shape[0]\n",
    "    mae\n",
    "    return mae"
   ]
  },
  {
   "cell_type": "code",
   "execution_count": 39,
   "metadata": {},
   "outputs": [],
   "source": [
    "#Обучение модели и ее возврат\n",
    "\n",
    "def fit(drop=0.1,learning_rate=0.01, batch_size=30):\n",
    "    epochs=10\n",
    "    train_batches=math.ceil(X_train[\"time\"].size/batch_size)-1\n",
    "    net = Net(drop)\n",
    "    optimizer = torch.optim.SGD(net.parameters(), lr=learning_rate, momentum=0.9)\n",
    "    #criterion = nn.MSELoss()\n",
    "    criterion=nn.L1Loss()\n",
    "    for epoch in range(epochs):\n",
    "        for batch in range(train_batches):\n",
    "            optimizer.zero_grad()\n",
    "            net_out=net(train_data[batch*batch_size:(batch_size*(batch+1))].float())\n",
    "            loss = criterion(net_out, train_target[batch*batch_size:(batch_size*(batch+1))].float())\n",
    "            loss.backward()\n",
    "            optimizer.step()\n",
    "    return net"
   ]
  },
  {
   "cell_type": "code",
   "execution_count": 37,
   "metadata": {},
   "outputs": [
    {
     "ename": "KeyboardInterrupt",
     "evalue": "",
     "output_type": "error",
     "traceback": [
      "\u001b[1;31m---------------------------------------------------------------------------\u001b[0m",
      "\u001b[1;31mKeyboardInterrupt\u001b[0m                         Traceback (most recent call last)",
      "\u001b[1;32m<ipython-input-37-389f9606fabd>\u001b[0m in \u001b[0;36m<module>\u001b[1;34m\u001b[0m\n\u001b[0;32m      6\u001b[0m     \u001b[1;32mfor\u001b[0m \u001b[0mj\u001b[0m \u001b[1;32min\u001b[0m \u001b[0mnp\u001b[0m\u001b[1;33m.\u001b[0m\u001b[0marange\u001b[0m\u001b[1;33m(\u001b[0m\u001b[1;36m0.001\u001b[0m\u001b[1;33m,\u001b[0m\u001b[1;36m0.01\u001b[0m\u001b[1;33m,\u001b[0m\u001b[1;36m0.001\u001b[0m\u001b[1;33m)\u001b[0m\u001b[1;33m:\u001b[0m\u001b[1;33m\u001b[0m\u001b[1;33m\u001b[0m\u001b[0m\n\u001b[0;32m      7\u001b[0m         \u001b[1;32mfor\u001b[0m \u001b[0mk\u001b[0m \u001b[1;32min\u001b[0m \u001b[0mnp\u001b[0m\u001b[1;33m.\u001b[0m\u001b[0marange\u001b[0m\u001b[1;33m(\u001b[0m\u001b[1;36m20\u001b[0m\u001b[1;33m,\u001b[0m\u001b[1;36m71\u001b[0m\u001b[1;33m,\u001b[0m\u001b[1;36m5\u001b[0m\u001b[1;33m)\u001b[0m\u001b[1;33m:\u001b[0m\u001b[1;33m\u001b[0m\u001b[1;33m\u001b[0m\u001b[0m\n\u001b[1;32m----> 8\u001b[1;33m             \u001b[0msearch\u001b[0m\u001b[1;33m.\u001b[0m\u001b[0mloc\u001b[0m\u001b[1;33m[\u001b[0m\u001b[0mcount\u001b[0m\u001b[1;33m]\u001b[0m\u001b[1;33m=\u001b[0m\u001b[1;33m[\u001b[0m\u001b[0mi\u001b[0m\u001b[1;33m,\u001b[0m\u001b[0mj\u001b[0m\u001b[1;33m,\u001b[0m\u001b[0mk\u001b[0m\u001b[1;33m,\u001b[0m\u001b[0mcheckloss\u001b[0m\u001b[1;33m(\u001b[0m\u001b[0mi\u001b[0m\u001b[1;33m,\u001b[0m\u001b[0mj\u001b[0m\u001b[1;33m,\u001b[0m\u001b[0mk\u001b[0m\u001b[1;33m)\u001b[0m\u001b[1;33m.\u001b[0m\u001b[0mdetach\u001b[0m\u001b[1;33m(\u001b[0m\u001b[1;33m)\u001b[0m\u001b[1;33m]\u001b[0m\u001b[1;33m\u001b[0m\u001b[1;33m\u001b[0m\u001b[0m\n\u001b[0m\u001b[0;32m      9\u001b[0m             \u001b[0mcount\u001b[0m\u001b[1;33m+=\u001b[0m\u001b[1;36m1\u001b[0m\u001b[1;33m\u001b[0m\u001b[1;33m\u001b[0m\u001b[0m\n\u001b[0;32m     10\u001b[0m \u001b[0msearch\u001b[0m\u001b[1;33m\u001b[0m\u001b[1;33m\u001b[0m\u001b[0m\n",
      "\u001b[1;32m<ipython-input-32-98f3adfe1582>\u001b[0m in \u001b[0;36mcheckloss\u001b[1;34m(drop, learning_rate, batch_size)\u001b[0m\n\u001b[0;32m      9\u001b[0m     \u001b[1;32mfor\u001b[0m \u001b[0mepoch\u001b[0m \u001b[1;32min\u001b[0m \u001b[0mrange\u001b[0m\u001b[1;33m(\u001b[0m\u001b[0mepochs\u001b[0m\u001b[1;33m)\u001b[0m\u001b[1;33m:\u001b[0m\u001b[1;33m\u001b[0m\u001b[1;33m\u001b[0m\u001b[0m\n\u001b[0;32m     10\u001b[0m         \u001b[1;32mfor\u001b[0m \u001b[0mbatch\u001b[0m \u001b[1;32min\u001b[0m \u001b[0mrange\u001b[0m\u001b[1;33m(\u001b[0m\u001b[0mtrain_batches\u001b[0m\u001b[1;33m)\u001b[0m\u001b[1;33m:\u001b[0m\u001b[1;33m\u001b[0m\u001b[1;33m\u001b[0m\u001b[0m\n\u001b[1;32m---> 11\u001b[1;33m             \u001b[0moptimizer\u001b[0m\u001b[1;33m.\u001b[0m\u001b[0mzero_grad\u001b[0m\u001b[1;33m(\u001b[0m\u001b[1;33m)\u001b[0m\u001b[1;33m\u001b[0m\u001b[1;33m\u001b[0m\u001b[0m\n\u001b[0m\u001b[0;32m     12\u001b[0m             \u001b[0mnet_out\u001b[0m\u001b[1;33m=\u001b[0m\u001b[0mnet\u001b[0m\u001b[1;33m(\u001b[0m\u001b[0mtrain_data\u001b[0m\u001b[1;33m[\u001b[0m\u001b[0mbatch\u001b[0m\u001b[1;33m*\u001b[0m\u001b[0mbatch_size\u001b[0m\u001b[1;33m:\u001b[0m\u001b[1;33m(\u001b[0m\u001b[0mbatch_size\u001b[0m\u001b[1;33m*\u001b[0m\u001b[1;33m(\u001b[0m\u001b[0mbatch\u001b[0m\u001b[1;33m+\u001b[0m\u001b[1;36m1\u001b[0m\u001b[1;33m)\u001b[0m\u001b[1;33m)\u001b[0m\u001b[1;33m]\u001b[0m\u001b[1;33m.\u001b[0m\u001b[0mfloat\u001b[0m\u001b[1;33m(\u001b[0m\u001b[1;33m)\u001b[0m\u001b[1;33m)\u001b[0m\u001b[1;33m\u001b[0m\u001b[1;33m\u001b[0m\u001b[0m\n\u001b[0;32m     13\u001b[0m             \u001b[0mloss\u001b[0m \u001b[1;33m=\u001b[0m \u001b[0mcriterion\u001b[0m\u001b[1;33m(\u001b[0m\u001b[0mnet_out\u001b[0m\u001b[1;33m,\u001b[0m \u001b[0mtrain_target\u001b[0m\u001b[1;33m[\u001b[0m\u001b[0mbatch\u001b[0m\u001b[1;33m*\u001b[0m\u001b[0mbatch_size\u001b[0m\u001b[1;33m:\u001b[0m\u001b[1;33m(\u001b[0m\u001b[0mbatch_size\u001b[0m\u001b[1;33m*\u001b[0m\u001b[1;33m(\u001b[0m\u001b[0mbatch\u001b[0m\u001b[1;33m+\u001b[0m\u001b[1;36m1\u001b[0m\u001b[1;33m)\u001b[0m\u001b[1;33m)\u001b[0m\u001b[1;33m]\u001b[0m\u001b[1;33m.\u001b[0m\u001b[0mfloat\u001b[0m\u001b[1;33m(\u001b[0m\u001b[1;33m)\u001b[0m\u001b[1;33m)\u001b[0m\u001b[1;33m\u001b[0m\u001b[1;33m\u001b[0m\u001b[0m\n",
      "\u001b[1;32mc:\\users\\antonloh\\appdata\\local\\programs\\python\\python38\\lib\\site-packages\\torch\\optim\\optimizer.py\u001b[0m in \u001b[0;36mzero_grad\u001b[1;34m(self, set_to_none)\u001b[0m\n\u001b[0;32m    215\u001b[0m                             \u001b[1;32melse\u001b[0m\u001b[1;33m:\u001b[0m\u001b[1;33m\u001b[0m\u001b[1;33m\u001b[0m\u001b[0m\n\u001b[0;32m    216\u001b[0m                                 \u001b[0mp\u001b[0m\u001b[1;33m.\u001b[0m\u001b[0mgrad\u001b[0m\u001b[1;33m.\u001b[0m\u001b[0mrequires_grad_\u001b[0m\u001b[1;33m(\u001b[0m\u001b[1;32mFalse\u001b[0m\u001b[1;33m)\u001b[0m\u001b[1;33m\u001b[0m\u001b[1;33m\u001b[0m\u001b[0m\n\u001b[1;32m--> 217\u001b[1;33m                             \u001b[0mp\u001b[0m\u001b[1;33m.\u001b[0m\u001b[0mgrad\u001b[0m\u001b[1;33m.\u001b[0m\u001b[0mzero_\u001b[0m\u001b[1;33m(\u001b[0m\u001b[1;33m)\u001b[0m\u001b[1;33m\u001b[0m\u001b[1;33m\u001b[0m\u001b[0m\n\u001b[0m\u001b[0;32m    218\u001b[0m \u001b[1;33m\u001b[0m\u001b[0m\n\u001b[0;32m    219\u001b[0m     \u001b[1;32mdef\u001b[0m \u001b[0mstep\u001b[0m\u001b[1;33m(\u001b[0m\u001b[0mself\u001b[0m\u001b[1;33m,\u001b[0m \u001b[0mclosure\u001b[0m\u001b[1;33m)\u001b[0m\u001b[1;33m:\u001b[0m\u001b[1;33m\u001b[0m\u001b[1;33m\u001b[0m\u001b[0m\n",
      "\u001b[1;31mKeyboardInterrupt\u001b[0m: "
     ]
    }
   ],
   "source": [
    "#grid search\n",
    "\n",
    "search=pd.DataFrame(columns=[\"drop\",\"lr\",\"batch\",\"loss\"])\n",
    "count=0\n",
    "for i in np.arange(0.0,0.51,0.05):\n",
    "    for j in np.arange(0.001,0.01,0.001):\n",
    "        for k in np.arange(20,71,5):\n",
    "            search.loc[count]=[i,j,k,checkloss(i,j,k).detach()]\n",
    "            count+=1\n",
    "search"
   ]
  },
  {
   "cell_type": "code",
   "execution_count": null,
   "metadata": {},
   "outputs": [],
   "source": [
    "gsmin=search[\"loss\"].min()\n",
    "minid=0\n",
    "for i in range(search[\"drop\"].size):\n",
    "    if (search[\"loss\"][i]==gsmin):\n",
    "        minid=i\n",
    "search.loc[minid]\n",
    "#drop=0, lr=0.006, batch=20, mae=66.7938"
   ]
  },
  {
   "cell_type": "code",
   "execution_count": null,
   "metadata": {},
   "outputs": [],
   "source": [
    "net=fit(0,0.006,20)"
   ]
  },
  {
   "cell_type": "code",
   "execution_count": null,
   "metadata": {},
   "outputs": [],
   "source": [
    "#Итоговая nn модель\n",
    "net"
   ]
  }
 ],
 "metadata": {
  "kernelspec": {
   "display_name": "Python 3",
   "language": "python",
   "name": "python3"
  },
  "language_info": {
   "codemirror_mode": {
    "name": "ipython",
    "version": 3
   },
   "file_extension": ".py",
   "mimetype": "text/x-python",
   "name": "python",
   "nbconvert_exporter": "python",
   "pygments_lexer": "ipython3",
   "version": "3.8.8"
  }
 },
 "nbformat": 4,
 "nbformat_minor": 4
}
