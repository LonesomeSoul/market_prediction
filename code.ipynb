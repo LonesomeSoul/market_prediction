{
 "cells": [
  {
   "cell_type": "code",
   "execution_count": 1,
   "metadata": {},
   "outputs": [],
   "source": [
    "import string \n",
    "import numpy as np \n",
    "import pandas as pd \n",
    "pd.set_option('display.max_columns', 100) \n",
    "pd.set_option('display.max_rows', 10) \n",
    "pd.set_option('display.width', 1000) \n",
    "from itertools import cycle "
   ]
  },
  {
   "cell_type": "code",
   "execution_count": 2,
   "metadata": {},
   "outputs": [],
   "source": [
    "from sklearn.linear_model import LogisticRegression\n",
    "from sklearn.svm import SVC, LinearSVC\n",
    "from sklearn.ensemble import RandomForestRegressor\n",
    "from sklearn.neighbors import KNeighborsClassifier\n",
    "from sklearn.naive_bayes import GaussianNB\n",
    "from sklearn.linear_model import Perceptron\n",
    "from sklearn.linear_model import SGDClassifier\n",
    "from sklearn.tree import DecisionTreeClassifier\n",
    "import sklearn\n",
    "import datetime\n",
    "####\n",
    "# scikit-learn version is 0.24.1.\n",
    "# pandas version is 1.2.3.\n",
    "# numpy version is 1.20.1."
   ]
  },
  {
   "cell_type": "code",
   "execution_count": 4,
   "metadata": {},
   "outputs": [],
   "source": [
    "df=pd.read_csv(r'D:\\учеба\\Kaggle\\Биржа\\US1.AAPL_210501_210901.csv' ,sep=',')"
   ]
  },
  {
   "cell_type": "code",
   "execution_count": 5,
   "metadata": {},
   "outputs": [
    {
     "data": {
      "text/html": [
       "<div>\n",
       "<style scoped>\n",
       "    .dataframe tbody tr th:only-of-type {\n",
       "        vertical-align: middle;\n",
       "    }\n",
       "\n",
       "    .dataframe tbody tr th {\n",
       "        vertical-align: top;\n",
       "    }\n",
       "\n",
       "    .dataframe thead th {\n",
       "        text-align: right;\n",
       "    }\n",
       "</style>\n",
       "<table border=\"1\" class=\"dataframe\">\n",
       "  <thead>\n",
       "    <tr style=\"text-align: right;\">\n",
       "      <th></th>\n",
       "      <th>&lt;TICKER&gt;</th>\n",
       "      <th>&lt;PER&gt;</th>\n",
       "      <th>&lt;DATE&gt;</th>\n",
       "      <th>&lt;TIME&gt;</th>\n",
       "      <th>&lt;OPEN&gt;</th>\n",
       "      <th>&lt;HIGH&gt;</th>\n",
       "      <th>&lt;LOW&gt;</th>\n",
       "      <th>&lt;CLOSE&gt;</th>\n",
       "      <th>&lt;VOL&gt;</th>\n",
       "      <th>delta1</th>\n",
       "      <th>delta2</th>\n",
       "    </tr>\n",
       "  </thead>\n",
       "  <tbody>\n",
       "    <tr>\n",
       "      <th>0</th>\n",
       "      <td>US1.AAPL</td>\n",
       "      <td>1</td>\n",
       "      <td>03/05/21</td>\n",
       "      <td>16:31</td>\n",
       "      <td>132.03</td>\n",
       "      <td>132.11</td>\n",
       "      <td>131.830</td>\n",
       "      <td>132.070</td>\n",
       "      <td>52332</td>\n",
       "      <td>0.000</td>\n",
       "      <td>0.000</td>\n",
       "    </tr>\n",
       "    <tr>\n",
       "      <th>1</th>\n",
       "      <td>US1.AAPL</td>\n",
       "      <td>1</td>\n",
       "      <td>03/05/21</td>\n",
       "      <td>16:32</td>\n",
       "      <td>132.06</td>\n",
       "      <td>132.28</td>\n",
       "      <td>132.000</td>\n",
       "      <td>132.190</td>\n",
       "      <td>33828</td>\n",
       "      <td>0.120</td>\n",
       "      <td>0.000</td>\n",
       "    </tr>\n",
       "    <tr>\n",
       "      <th>2</th>\n",
       "      <td>US1.AAPL</td>\n",
       "      <td>1</td>\n",
       "      <td>03/05/21</td>\n",
       "      <td>16:33</td>\n",
       "      <td>132.20</td>\n",
       "      <td>132.41</td>\n",
       "      <td>132.175</td>\n",
       "      <td>132.330</td>\n",
       "      <td>19659</td>\n",
       "      <td>0.140</td>\n",
       "      <td>0.260</td>\n",
       "    </tr>\n",
       "    <tr>\n",
       "      <th>3</th>\n",
       "      <td>US1.AAPL</td>\n",
       "      <td>1</td>\n",
       "      <td>03/05/21</td>\n",
       "      <td>16:34</td>\n",
       "      <td>132.34</td>\n",
       "      <td>132.65</td>\n",
       "      <td>132.225</td>\n",
       "      <td>132.630</td>\n",
       "      <td>35281</td>\n",
       "      <td>0.300</td>\n",
       "      <td>0.440</td>\n",
       "    </tr>\n",
       "    <tr>\n",
       "      <th>4</th>\n",
       "      <td>US1.AAPL</td>\n",
       "      <td>1</td>\n",
       "      <td>03/05/21</td>\n",
       "      <td>16:35</td>\n",
       "      <td>132.63</td>\n",
       "      <td>132.74</td>\n",
       "      <td>132.570</td>\n",
       "      <td>132.660</td>\n",
       "      <td>22357</td>\n",
       "      <td>0.030</td>\n",
       "      <td>0.330</td>\n",
       "    </tr>\n",
       "    <tr>\n",
       "      <th>...</th>\n",
       "      <td>...</td>\n",
       "      <td>...</td>\n",
       "      <td>...</td>\n",
       "      <td>...</td>\n",
       "      <td>...</td>\n",
       "      <td>...</td>\n",
       "      <td>...</td>\n",
       "      <td>...</td>\n",
       "      <td>...</td>\n",
       "      <td>...</td>\n",
       "      <td>...</td>\n",
       "    </tr>\n",
       "    <tr>\n",
       "      <th>33143</th>\n",
       "      <td>US1.AAPL</td>\n",
       "      <td>1</td>\n",
       "      <td>31/08/21</td>\n",
       "      <td>22:56</td>\n",
       "      <td>151.67</td>\n",
       "      <td>151.84</td>\n",
       "      <td>151.650</td>\n",
       "      <td>151.765</td>\n",
       "      <td>74004</td>\n",
       "      <td>0.105</td>\n",
       "      <td>-0.145</td>\n",
       "    </tr>\n",
       "    <tr>\n",
       "      <th>33144</th>\n",
       "      <td>US1.AAPL</td>\n",
       "      <td>1</td>\n",
       "      <td>31/08/21</td>\n",
       "      <td>22:57</td>\n",
       "      <td>151.76</td>\n",
       "      <td>151.90</td>\n",
       "      <td>151.760</td>\n",
       "      <td>151.880</td>\n",
       "      <td>76975</td>\n",
       "      <td>0.115</td>\n",
       "      <td>0.220</td>\n",
       "    </tr>\n",
       "    <tr>\n",
       "      <th>33145</th>\n",
       "      <td>US1.AAPL</td>\n",
       "      <td>1</td>\n",
       "      <td>31/08/21</td>\n",
       "      <td>22:58</td>\n",
       "      <td>151.88</td>\n",
       "      <td>151.93</td>\n",
       "      <td>151.820</td>\n",
       "      <td>151.930</td>\n",
       "      <td>56229</td>\n",
       "      <td>0.050</td>\n",
       "      <td>0.165</td>\n",
       "    </tr>\n",
       "    <tr>\n",
       "      <th>33146</th>\n",
       "      <td>US1.AAPL</td>\n",
       "      <td>1</td>\n",
       "      <td>31/08/21</td>\n",
       "      <td>22:59</td>\n",
       "      <td>151.93</td>\n",
       "      <td>151.94</td>\n",
       "      <td>151.810</td>\n",
       "      <td>151.840</td>\n",
       "      <td>60126</td>\n",
       "      <td>-0.090</td>\n",
       "      <td>-0.040</td>\n",
       "    </tr>\n",
       "    <tr>\n",
       "      <th>33147</th>\n",
       "      <td>US1.AAPL</td>\n",
       "      <td>1</td>\n",
       "      <td>31/08/21</td>\n",
       "      <td>23:00</td>\n",
       "      <td>151.87</td>\n",
       "      <td>151.96</td>\n",
       "      <td>151.690</td>\n",
       "      <td>151.830</td>\n",
       "      <td>131246</td>\n",
       "      <td>-0.010</td>\n",
       "      <td>-0.100</td>\n",
       "    </tr>\n",
       "  </tbody>\n",
       "</table>\n",
       "<p>33148 rows × 11 columns</p>\n",
       "</div>"
      ],
      "text/plain": [
       "       <TICKER>  <PER>    <DATE> <TIME>  <OPEN>  <HIGH>    <LOW>  <CLOSE>   <VOL>  delta1  delta2\n",
       "0      US1.AAPL      1  03/05/21  16:31  132.03  132.11  131.830  132.070   52332   0.000   0.000\n",
       "1      US1.AAPL      1  03/05/21  16:32  132.06  132.28  132.000  132.190   33828   0.120   0.000\n",
       "2      US1.AAPL      1  03/05/21  16:33  132.20  132.41  132.175  132.330   19659   0.140   0.260\n",
       "3      US1.AAPL      1  03/05/21  16:34  132.34  132.65  132.225  132.630   35281   0.300   0.440\n",
       "4      US1.AAPL      1  03/05/21  16:35  132.63  132.74  132.570  132.660   22357   0.030   0.330\n",
       "...         ...    ...       ...    ...     ...     ...      ...      ...     ...     ...     ...\n",
       "33143  US1.AAPL      1  31/08/21  22:56  151.67  151.84  151.650  151.765   74004   0.105  -0.145\n",
       "33144  US1.AAPL      1  31/08/21  22:57  151.76  151.90  151.760  151.880   76975   0.115   0.220\n",
       "33145  US1.AAPL      1  31/08/21  22:58  151.88  151.93  151.820  151.930   56229   0.050   0.165\n",
       "33146  US1.AAPL      1  31/08/21  22:59  151.93  151.94  151.810  151.840   60126  -0.090  -0.040\n",
       "33147  US1.AAPL      1  31/08/21  23:00  151.87  151.96  151.690  151.830  131246  -0.010  -0.100\n",
       "\n",
       "[33148 rows x 11 columns]"
      ]
     },
     "execution_count": 5,
     "metadata": {},
     "output_type": "execute_result"
    }
   ],
   "source": [
    "#фичи delta1 - разница <CLOSE> с предыдущим временным промежутком,\n",
    "# delta2 - с точкой двумя промежутками раньше\n",
    "delta1=[0 for i in range(0,df[\"<TICKER>\"].size)]\n",
    "delta2=[0 for i in range(0,df[\"<TICKER>\"].size)]\n",
    "i=1\n",
    "while (i<df[\"<TICKER>\"].size):\n",
    "    delta1[i]=df[\"<CLOSE>\"][i]-df[\"<CLOSE>\"][i-1]\n",
    "    i+=1\n",
    "df['delta1']=delta1\n",
    "delta1=[0 for i in range(0,df[\"<TICKER>\"].size)]\n",
    "\n",
    "i=2\n",
    "while (i<df[\"<TICKER>\"].size):\n",
    "    delta2[i]=df[\"<CLOSE>\"][i]-df[\"<CLOSE>\"][i-2]\n",
    "    i+=1\n",
    "df['delta2']=delta2\n",
    "df"
   ]
  },
  {
   "cell_type": "code",
   "execution_count": 6,
   "metadata": {},
   "outputs": [
    {
     "name": "stderr",
     "output_type": "stream",
     "text": [
      "<ipython-input-6-314177c4a164>:6: SettingWithCopyWarning: \n",
      "A value is trying to be set on a copy of a slice from a DataFrame\n",
      "\n",
      "See the caveats in the documentation: https://pandas.pydata.org/pandas-docs/stable/user_guide/indexing.html#returning-a-view-versus-a-copy\n",
      "  df[\"<DATE>\"][i]=df[\"<DATE>\"][i][0:6]+\"20\"+df[\"<DATE>\"][i][6:8]\n"
     ]
    }
   ],
   "source": [
    "#добавляю фичу \"день недели\" + форматирую дату с дд\\мм\\гг на дд\\мм\\гггг\n",
    "day=[0 for i in range(0,df[\"<TICKER>\"].size)]\n",
    "from datetime import datetime, date, time\n",
    "i=0\n",
    "while (i<df[\"<TICKER>\"].size):\n",
    "    df[\"<DATE>\"][i]=df[\"<DATE>\"][i][0:6]+\"20\"+df[\"<DATE>\"][i][6:8]\n",
    "    day[i]=datetime.weekday(datetime.strptime(df[\"<DATE>\"][i]+\" \"+df[\"<TIME>\"][i], \n",
    "                             \"%d/%m/%Y %H:%M\"))\n",
    "    i+=1\n",
    "df['day']=day"
   ]
  },
  {
   "cell_type": "code",
   "execution_count": 7,
   "metadata": {},
   "outputs": [],
   "source": [
    "#добавляю фичу \"время\" - в секундах с начала торгов (16:30)\n",
    "size=len(df[\"<TICKER>\"])\n",
    "hours=[0 for i in range(size)]\n",
    "mins=[0 for i in range(size)]\n",
    "secs=[0 for i in range(size)]\n",
    "for i in range(size):\n",
    "    hours[i]=int(df[\"<TIME>\"][i][0:2])\n",
    "    mins[i]=int(df[\"<TIME>\"][i][3:5])\n",
    "TIME=[0 for i in range(0,df[\"<TICKER>\"].size)]\n",
    "for i in range(size):\n",
    "    TIME[i]=(hours[i]-16)*3600+mins[i]*60-1860\n",
    "    \n",
    "df['time']=TIME"
   ]
  },
  {
   "cell_type": "code",
   "execution_count": 8,
   "metadata": {},
   "outputs": [
    {
     "name": "stderr",
     "output_type": "stream",
     "text": [
      "<ipython-input-8-99c929464daa>:6: SettingWithCopyWarning: \n",
      "A value is trying to be set on a copy of a slice from a DataFrame\n",
      "\n",
      "See the caveats in the documentation: https://pandas.pydata.org/pandas-docs/stable/user_guide/indexing.html#returning-a-view-versus-a-copy\n",
      "  df['label'][i]=(df['<CLOSE>'][i+1])\n"
     ]
    }
   ],
   "source": [
    "#метки для обучения (значения <CLOSE> на следующем временном промежутке)\n",
    "labels=[float(0.0) for i in range(0,df[\"<TICKER>\"].size)]\n",
    "labels=np.float32(labels)\n",
    "df['label']=labels\n",
    "for i in range(size-1):\n",
    "    df['label'][i]=(df['<CLOSE>'][i+1])"
   ]
  },
  {
   "cell_type": "code",
   "execution_count": 9,
   "metadata": {
    "scrolled": true
   },
   "outputs": [],
   "source": [
    "#формирование обучающей, тестовой выборок\n",
    "train={\n",
    "    'time':df['time'][0:size-1],\n",
    "    '<CLOSE>':df['<CLOSE>'][0:size-1],\n",
    "      'delta1':df['delta1'][0:size-1],\n",
    "    'delta2':df['delta2'][0:size-1],\n",
    "'day':df['day'][0:size-5]}\n",
    "df_train=pd.DataFrame(data=train)\n",
    "X = df_train\n",
    "\n",
    "y=df['label'][0:size-1]\n",
    "\n",
    "from sklearn.model_selection import train_test_split"
   ]
  },
  {
   "cell_type": "code",
   "execution_count": 10,
   "metadata": {},
   "outputs": [],
   "source": [
    "y=df['label'][0:size-1]"
   ]
  },
  {
   "cell_type": "code",
   "execution_count": 11,
   "metadata": {},
   "outputs": [],
   "source": [
    "X_train, X_test, y_train, y_test = train_test_split(X, y, test_size = 0.20, random_state =0)\n"
   ]
  },
  {
   "cell_type": "code",
   "execution_count": 12,
   "metadata": {},
   "outputs": [],
   "source": [
    "X_train = X_train.fillna(X_train.mean())\n",
    "X_test = X_test.fillna(X_test.mean())"
   ]
  },
  {
   "cell_type": "code",
   "execution_count": 13,
   "metadata": {},
   "outputs": [],
   "source": [
    "y_test=y_test.reset_index(drop=True)"
   ]
  },
  {
   "cell_type": "code",
   "execution_count": 14,
   "metadata": {},
   "outputs": [],
   "source": [
    "# обучение\n",
    "count=5\n",
    "mean_square_err=[0]*count\n",
    "deviation=[0]*count\n",
    "for depth in range(count):\n",
    "    regr = RandomForestRegressor(max_depth=5+depth, random_state=0,min_samples_leaf=5,criterion='mse')\n",
    "    regr.fit(X_train,y_train)\n",
    "    y_pred=regr.predict(X_test)\n",
    "    for i in range(y_pred.size):\n",
    "        mean_square_err[depth]+=(y_test[i]-y_pred[i])**2\n",
    "    mean_square_err[depth]/=y_pred.size\n",
    "    mean_square_err[depth]=mean_square_err[depth]**0.5\n",
    "    for i in range(y_pred.size):\n",
    "        deviation[depth]+=(y_test[i]-y_pred[i])*100/y_test[i]\n",
    "    deviation[depth]/=y_pred.size"
   ]
  },
  {
   "cell_type": "code",
   "execution_count": 15,
   "metadata": {
    "scrolled": true
   },
   "outputs": [
    {
     "data": {
      "text/plain": [
       "([-0.00036688802947013694,\n",
       "  -0.00011869886742377729,\n",
       "  -0.000162788667942917,\n",
       "  -0.00031346065033381403,\n",
       "  -0.00024601888090846176],\n",
       " [0.22272721567863324,\n",
       "  0.12722706775664847,\n",
       "  0.096405032593775,\n",
       "  0.09203731889350165,\n",
       "  0.09185098924534714])"
      ]
     },
     "execution_count": 15,
     "metadata": {},
     "output_type": "execute_result"
    }
   ],
   "source": [
    "deviation,mean_square_err"
   ]
  },
  {
   "cell_type": "code",
   "execution_count": 16,
   "metadata": {},
   "outputs": [
    {
     "data": {
      "text/plain": [
       "RandomForestRegressor(max_depth=8, min_samples_leaf=5, random_state=0)"
      ]
     },
     "execution_count": 16,
     "metadata": {},
     "output_type": "execute_result"
    }
   ],
   "source": [
    "# итоговая модель:\n",
    "model = RandomForestRegressor(max_depth=8, random_state=0,min_samples_leaf=5)\n",
    "model.fit(X_train,y_train)"
   ]
  },
  {
   "cell_type": "code",
   "execution_count": null,
   "metadata": {},
   "outputs": [],
   "source": []
  }
 ],
 "metadata": {
  "kernelspec": {
   "display_name": "Python 3",
   "language": "python",
   "name": "python3"
  },
  "language_info": {
   "codemirror_mode": {
    "name": "ipython",
    "version": 3
   },
   "file_extension": ".py",
   "mimetype": "text/x-python",
   "name": "python",
   "nbconvert_exporter": "python",
   "pygments_lexer": "ipython3",
   "version": "3.8.8"
  }
 },
 "nbformat": 4,
 "nbformat_minor": 4
}
